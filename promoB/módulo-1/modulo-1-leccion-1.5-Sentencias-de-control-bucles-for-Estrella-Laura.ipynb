{
 "cells": [
  {
   "cell_type": "code",
   "execution_count": null,
   "metadata": {},
   "outputs": [],
   "source": [
    "## EJERCICIOS SENTENCIAS DE CONTROL BUCLES FOR"
   ]
  },
  {
   "cell_type": "code",
   "execution_count": 1,
   "metadata": {},
   "outputs": [
    {
     "name": "stdout",
     "output_type": "stream",
     "text": [
      "1\n",
      "2\n",
      "3\n",
      "4\n",
      "5\n"
     ]
    }
   ],
   "source": [
    "#Ejercicio 1 - Imprimir los numeros del 1 al 5 utilizando un bucle for.\n",
    "'''Descripción: Utiliza un bucle for para imprimir numeros del 1 al 5 (incluido en orden ascendente)'''\n",
    "\n",
    "for numero in range (1,6):\n",
    "    print(numero)\n",
    "\n"
   ]
  },
  {
   "cell_type": "code",
   "execution_count": 2,
   "metadata": {},
   "outputs": [
    {
     "name": "stdout",
     "output_type": "stream",
     "text": [
      "362880\n"
     ]
    }
   ],
   "source": [
    "# Ejercicio 2. Calcular la suma de los primeros 10 números naturales utilizando un bucle for\n",
    "''' Utiliza un bulce for para cacular la suma de los primeros 10 números naturales.'''\n",
    "\n",
    "lista = range (1,10)\n",
    "suma = 1\n",
    "numero = 1\n",
    "\n",
    "for num in lista:\n",
    "    suma = suma * numero\n",
    "    numero += 1\n",
    "print(suma)"
   ]
  },
  {
   "cell_type": "code",
   "execution_count": 3,
   "metadata": {},
   "outputs": [
    {
     "name": "stdout",
     "output_type": "stream",
     "text": [
      "46\n"
     ]
    }
   ],
   "source": [
    "# Ejercicio 3. Calcular el producto de los elementos de una lista \n",
    "''' Dada una lista de números, utiliza un bucle for para calcular el producto de todos los elementos'''\n",
    "\n",
    "lista = range (1,10)\n",
    "producto = 1\n",
    "numero = 1\n",
    "\n",
    "for num in lista:\n",
    "    producto = producto + numero\n",
    "    numero += 1\n",
    "print(producto)"
   ]
  },
  {
   "cell_type": "code",
   "execution_count": 4,
   "metadata": {},
   "outputs": [
    {
     "name": "stdout",
     "output_type": "stream",
     "text": [
      "A\n",
      "d\n",
      "a\n",
      "l\n",
      "a\n",
      "b\n",
      "e\n",
      "r\n",
      "s\n"
     ]
    }
   ],
   "source": [
    "# Ejercicio 4. Imprimir los caracteres de una cadena de texto \n",
    "''' * dada una cadena de texto, utiliza un bucle for para caluclar el producto de todos los elementos'''\n",
    "\n",
    "palabra = \"Adalabers\"\n",
    "\n",
    "for letra in palabra:\n",
    "    print(letra)\n"
   ]
  },
  {
   "cell_type": "code",
   "execution_count": 5,
   "metadata": {},
   "outputs": [
    {
     "name": "stdout",
     "output_type": "stream",
     "text": [
      "2\n",
      "4\n",
      "6\n",
      "8\n",
      "10\n",
      "12\n",
      "14\n",
      "16\n",
      "18\n",
      "20\n",
      "22\n",
      "24\n",
      "26\n",
      "28\n",
      "30\n",
      "32\n",
      "34\n",
      "36\n",
      "38\n",
      "40\n",
      "42\n",
      "44\n",
      "46\n",
      "48\n",
      "50\n",
      "52\n",
      "54\n",
      "56\n",
      "58\n",
      "60\n",
      "62\n",
      "64\n",
      "66\n",
      "68\n",
      "70\n",
      "72\n",
      "74\n",
      "76\n",
      "78\n",
      "80\n",
      "82\n",
      "84\n",
      "86\n",
      "88\n",
      "90\n",
      "92\n",
      "94\n",
      "96\n",
      "98\n",
      "100\n",
      "100\n"
     ]
    }
   ],
   "source": [
    "# Ejercicio 5. imprimir los números pares del 1 al 100 utilizando un bucle for\n",
    "''' Utiliza un bucle for para imprimir los números pares del 1 al 100 en orden ascendente.'''\n",
    "\n",
    "numeros = range (1,101)\n",
    "\n",
    "for num in numeros:\n",
    "    if num % 2 == 0:\n",
    "        print(num)\n",
    "\n",
    "print(num)   "
   ]
  },
  {
   "cell_type": "code",
   "execution_count": null,
   "metadata": {},
   "outputs": [],
   "source": []
  }
 ],
 "metadata": {
  "kernelspec": {
   "display_name": "Python 3",
   "language": "python",
   "name": "python3"
  },
  "language_info": {
   "codemirror_mode": {
    "name": "ipython",
    "version": 3
   },
   "file_extension": ".py",
   "mimetype": "text/x-python",
   "name": "python",
   "nbconvert_exporter": "python",
   "pygments_lexer": "ipython3",
   "version": "3.12.2"
  }
 },
 "nbformat": 4,
 "nbformat_minor": 2
}
