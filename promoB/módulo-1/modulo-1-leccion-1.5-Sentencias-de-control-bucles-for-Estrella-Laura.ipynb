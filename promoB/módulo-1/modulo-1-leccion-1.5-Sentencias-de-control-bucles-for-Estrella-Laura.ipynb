{
 "cells": [
  {
   "cell_type": "code",
   "execution_count": null,
   "metadata": {},
   "outputs": [],
   "source": [
    "## EJERCICIOS SENTENCIAS DE CONTROL BUCLES FOR"
   ]
  },
  {
   "cell_type": "code",
   "execution_count": 1,
   "metadata": {},
   "outputs": [
    {
     "name": "stdout",
     "output_type": "stream",
     "text": [
      "1\n",
      "2\n",
      "3\n",
      "4\n",
      "5\n"
     ]
    }
   ],
   "source": [
    "#Ejercicio 1 - Imprimir los numeros del 1 al 5 utilizando un bucle for.\n",
    "'''Descripción: Utiliza un bucle for para imprimir numeros del 1 al 5 (incluido en orden ascendente)'''\n",
    "\n",
    "for numero in range (1,6):\n",
    "    print(numero)\n",
    "\n"
   ]
  },
  {
   "cell_type": "code",
   "execution_count": null,
   "metadata": {},
   "outputs": [],
   "source": [
    "# Ejercicio 2. Calcular la suma de los primeros 10 números naturales utilizando un bucle for\n",
    "''' Utiliza un bulce for para cacular la suma de los primeros 10 números naturales.'''\n",
    "\n",
    "lista = range (1,10)\n",
    "suma = 1\n",
    "numero = 1\n",
    "\n",
    "for num in lista:\n",
    "    suma = suma * numero\n",
    "    numero += 1\n",
    "print(suma)"
   ]
  },
  {
   "cell_type": "code",
   "execution_count": null,
   "metadata": {},
   "outputs": [],
   "source": [
    "# Ejercicio 3. Calcular el producto de los elementos de una lista \n",
    "''' Dada una lista de números, utiliza un bucle for para calcular el producto de todos los elementos'''\n",
    "\n",
    "lista = range (1,10)\n",
    "producto = 1\n",
    "numero = 1\n",
    "\n",
    "for num in lista:\n",
    "    producto = producto + numero\n",
    "    numero += 1\n",
    "print(producto)"
   ]
  },
  {
   "cell_type": "code",
   "execution_count": null,
   "metadata": {},
   "outputs": [],
   "source": [
    "# Ejercicio 4. Imprimir los caracteres de una cadena de texto \n",
    "''' * dada una cadena de texto, utiliza un bucle for para caluclar el producto de todos los elementos'''\n",
    "\n",
    "palabra = \"Adalabers\"\n",
    "\n",
    "for letra in palabra:\n",
    "    print(letra)\n"
   ]
  },
  {
   "cell_type": "code",
   "execution_count": null,
   "metadata": {},
   "outputs": [],
   "source": [
    "# Ejercicio 5. imprimir los números pares del 1 al 100 utilizando un bucle for\n",
    "''' Utiliza un bucle for para imprimir los números pares del 1 al 100 en orden ascendente.'''\n",
    "\n",
    "numeros = range (1,101)\n",
    "\n",
    "for num in numeros:\n",
    "    if num % 2 == 0:\n",
    "        print(num)\n",
    "\n",
    "print(num)   "
   ]
  },
  {
   "cell_type": "code",
   "execution_count": null,
   "metadata": {},
   "outputs": [],
   "source": []
  }
 ],
 "metadata": {
  "kernelspec": {
   "display_name": "Python 3",
   "language": "python",
   "name": "python3"
  },
  "language_info": {
   "codemirror_mode": {
    "name": "ipython",
    "version": 3
   },
   "file_extension": ".py",
   "mimetype": "text/x-python",
   "name": "python",
   "nbconvert_exporter": "python",
   "pygments_lexer": "ipython3",
   "version": "3.12.2"
  }
 },
 "nbformat": 4,
 "nbformat_minor": 2
}
