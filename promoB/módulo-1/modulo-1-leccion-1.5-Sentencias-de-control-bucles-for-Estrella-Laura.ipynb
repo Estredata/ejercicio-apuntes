{
 "cells": [
  {
   "cell_type": "code",
   "execution_count": null,
   "metadata": {},
   "outputs": [],
   "source": [
    "## EJERCICIOS SENTENCIAS DE CONTROL BUCLES FOR"
   ]
  },
  {
   "cell_type": "code",
   "execution_count": 1,
   "metadata": {},
   "outputs": [
    {
     "name": "stdout",
     "output_type": "stream",
     "text": [
      "1\n",
      "2\n",
      "3\n",
      "4\n",
      "5\n"
     ]
    }
   ],
   "source": [
    "#Ejercicio 1 - Imprimir los numeros del 1 al 5 utilizando un bucle for.\n",
    "'''Descripción: Utiliza un bucle for para imprimir numeros del 1 al 5 (incluido en orden ascendente)'''\n",
    "\n",
    "for numero in range (1,6):\n",
    "    print(numero)\n",
    "\n"
   ]
  }
 ],
 "metadata": {
  "kernelspec": {
   "display_name": "Python 3",
   "language": "python",
   "name": "python3"
  },
  "language_info": {
   "codemirror_mode": {
    "name": "ipython",
    "version": 3
   },
   "file_extension": ".py",
   "mimetype": "text/x-python",
   "name": "python",
   "nbconvert_exporter": "python",
   "pygments_lexer": "ipython3",
   "version": "3.12.2"
  }
 },
 "nbformat": 4,
 "nbformat_minor": 2
}
